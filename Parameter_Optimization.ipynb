{
  "nbformat": 4,
  "nbformat_minor": 0,
  "metadata": {
    "colab": {
      "provenance": []
    },
    "kernelspec": {
      "name": "python3",
      "display_name": "Python 3"
    },
    "language_info": {
      "name": "python"
    }
  },
  "cells": [
    {
      "cell_type": "code",
      "execution_count": 8,
      "metadata": {
        "id": "HmZGROkufJWI"
      },
      "outputs": [],
      "source": [
        "import numpy as np\n",
        "import pandas as pd\n",
        "import matplotlib.pyplot as plt\n",
        "from sklearn.datasets import fetch_openml\n",
        "from sklearn.model_selection import train_test_split\n",
        "from sklearn.preprocessing import StandardScaler\n",
        "from sklearn.svm import SVC\n",
        "from sklearn.metrics import accuracy_score\n",
        "import seaborn as sns\n"
      ]
    },
    {
      "cell_type": "code",
      "source": [
        "np.random.seed(42)\n",
        "# Load the dataset - using Optical Recognition of Handwritten Digits\n",
        "X, y = fetch_openml(name='optdigits', version=1, return_X_y=True, as_frame=False)\n",
        "print(f\"Dataset shape: {X.shape}, Classes: {len(np.unique(y))}\")\n",
        "\n",
        "# Print dataset info\n",
        "print(f\"Number of samples: {X.shape[0]}\")\n",
        "print(f\"Number of features: {X.shape[1]}\")\n",
        "print(f\"Number of classes: {len(np.unique(y))}\")\n",
        "\n",
        "# Class distribution\n",
        "unique, counts = np.unique(y, return_counts=True)\n",
        "for cls, count in zip(unique, counts):\n",
        "    print(f\"Class {cls}: {count} samples\")"
      ],
      "metadata": {
        "id": "GLkfPCDSfxJT",
        "colab": {
          "base_uri": "https://localhost:8080/"
        },
        "outputId": "8423e71b-416c-47ce-ceae-a7a1739a3aa7"
      },
      "execution_count": 9,
      "outputs": [
        {
          "output_type": "stream",
          "name": "stdout",
          "text": [
            "Dataset shape: (5620, 64), Classes: 10\n",
            "Number of samples: 5620\n",
            "Number of features: 64\n",
            "Number of classes: 10\n",
            "Class 0: 554 samples\n",
            "Class 1: 571 samples\n",
            "Class 2: 557 samples\n",
            "Class 3: 572 samples\n",
            "Class 4: 568 samples\n",
            "Class 5: 558 samples\n",
            "Class 6: 558 samples\n",
            "Class 7: 566 samples\n",
            "Class 8: 554 samples\n",
            "Class 9: 562 samples\n"
          ]
        }
      ]
    },
    {
      "cell_type": "code",
      "source": [
        "# Create 10 different samples\n",
        "samples = []\n",
        "for i in range(10):\n",
        "    X_train, X_test, y_train, y_test = train_test_split(\n",
        "        X, y, test_size=0.3, random_state=i*10)\n",
        "\n",
        "    scaler = StandardScaler()\n",
        "    X_train_scaled = scaler.fit_transform(X_train)\n",
        "    X_test_scaled = scaler.transform(X_test)\n",
        "\n",
        "    samples.append({\n",
        "        'sample_id': f'S{i+1}',\n",
        "        'X_train': X_train_scaled,\n",
        "        'X_test': X_test_scaled,\n",
        "        'y_train': y_train,\n",
        "        'y_test': y_test\n",
        "    })"
      ],
      "metadata": {
        "id": "L9V1d968f33S"
      },
      "execution_count": 10,
      "outputs": []
    },
    {
      "cell_type": "code",
      "source": [
        "# Optimize SVM for each sample\n",
        "results = []\n",
        "all_convergence_data = {}\n",
        "\n",
        "for sample in samples:\n",
        "    print(f\"Optimizing sample {sample['sample_id']}...\")\n",
        "\n",
        "    best_accuracy = 0\n",
        "    best_params = {}\n",
        "    accuracy_history = []\n",
        "\n",
        "    kernels = ['linear', 'poly', 'rbf', 'sigmoid']\n",
        "    C_values = np.logspace(-3, 3, 7)\n",
        "    gamma_values = np.logspace(-4, 2, 7)\n",
        "\n",
        "    iteration = 0\n",
        "\n",
        "    for kernel in kernels:\n",
        "        for C in C_values:\n",
        "            for gamma in gamma_values:\n",
        "                if iteration >= 100:\n",
        "                    break\n",
        "\n",
        "                try:\n",
        "                    svm = SVC(kernel=kernel, C=C, gamma=gamma if kernel != 'linear' else 'auto')\n",
        "                    svm.fit(sample['X_train'], sample['y_train'])\n",
        "\n",
        "                    y_pred = svm.predict(sample['X_test'])\n",
        "                    accuracy = accuracy_score(sample['y_test'], y_pred)\n",
        "\n",
        "                    accuracy_history.append(accuracy)\n",
        "\n",
        "                    if accuracy > best_accuracy:\n",
        "                        best_accuracy = accuracy\n",
        "                        best_params = {\n",
        "                            'kernel': kernel,\n",
        "                            'C': C,\n",
        "                            'gamma': gamma if kernel != 'linear' else 'auto'\n",
        "                        }\n",
        "\n",
        "                    iteration += 1\n",
        "\n",
        "                except:\n",
        "                    iteration += 1\n",
        "                    continue\n",
        "\n",
        "            if iteration >= 100:\n",
        "                break\n",
        "        if iteration >= 100:\n",
        "            break\n",
        "\n",
        "    results.append({\n",
        "        'sample_id': sample['sample_id'],\n",
        "        'best_accuracy': best_accuracy,\n",
        "        'best_params': best_params\n",
        "    })\n",
        "\n",
        "    all_convergence_data[sample['sample_id']] = accuracy_history\n",
        "\n",
        "    print(f\"Best accuracy: {best_accuracy:.4f}\")\n",
        "    print(f\"Best parameters: {best_params}\")"
      ],
      "metadata": {
        "colab": {
          "base_uri": "https://localhost:8080/"
        },
        "id": "1ZZEeicJfLUa",
        "outputId": "7cd63c8b-d3ea-4a70-9030-a241575574d4"
      },
      "execution_count": 6,
      "outputs": [
        {
          "output_type": "stream",
          "name": "stdout",
          "text": [
            "Optimizing sample S1...\n",
            "Best accuracy: 0.9905\n",
            "Best parameters: {'kernel': 'poly', 'C': np.float64(0.001), 'gamma': np.float64(1.0)}\n",
            "Optimizing sample S2...\n",
            "Best accuracy: 0.9834\n",
            "Best parameters: {'kernel': 'poly', 'C': np.float64(0.001), 'gamma': np.float64(1.0)}\n",
            "Optimizing sample S3...\n",
            "Best accuracy: 0.9935\n",
            "Best parameters: {'kernel': 'poly', 'C': np.float64(0.001), 'gamma': np.float64(1.0)}\n",
            "Optimizing sample S4...\n",
            "Best accuracy: 0.9905\n",
            "Best parameters: {'kernel': 'poly', 'C': np.float64(0.001), 'gamma': np.float64(1.0)}\n",
            "Optimizing sample S5...\n",
            "Best accuracy: 0.9834\n",
            "Best parameters: {'kernel': 'linear', 'C': np.float64(0.1), 'gamma': 'auto'}\n",
            "Optimizing sample S6...\n",
            "Best accuracy: 0.9881\n",
            "Best parameters: {'kernel': 'poly', 'C': np.float64(0.001), 'gamma': np.float64(1.0)}\n",
            "Optimizing sample S7...\n",
            "Best accuracy: 0.9881\n",
            "Best parameters: {'kernel': 'poly', 'C': np.float64(0.001), 'gamma': np.float64(1.0)}\n",
            "Optimizing sample S8...\n",
            "Best accuracy: 0.9923\n",
            "Best parameters: {'kernel': 'poly', 'C': np.float64(0.001), 'gamma': np.float64(1.0)}\n",
            "Optimizing sample S9...\n",
            "Best accuracy: 0.9929\n",
            "Best parameters: {'kernel': 'poly', 'C': np.float64(0.1), 'gamma': np.float64(0.1)}\n",
            "Optimizing sample S10...\n",
            "Best accuracy: 0.9846\n",
            "Best parameters: {'kernel': 'poly', 'C': np.float64(0.001), 'gamma': np.float64(1.0)}\n"
          ]
        }
      ]
    },
    {
      "cell_type": "code",
      "source": [
        "# Find the sample with maximum accuracy\n",
        "best_sample = max(results, key=lambda x: x['best_accuracy'])\n",
        "print(f\"Best sample: {best_sample['sample_id']} with accuracy: {best_sample['best_accuracy']:.4f}\")\n",
        "\n",
        "# Plot convergence graph for the best sample\n",
        "plt.figure(figsize=(10, 6))\n",
        "best_sample_id = best_sample['sample_id']\n",
        "plt.plot(range(len(all_convergence_data[best_sample_id])),\n",
        "         all_convergence_data[best_sample_id])\n",
        "plt.title(f'Convergence Graph for {best_sample_id}')\n",
        "plt.xlabel('Iteration')\n",
        "plt.ylabel('Accuracy')\n",
        "plt.grid(True)\n",
        "plt.savefig('convergence_graph.png')\n",
        "\n",
        "# Create and save results table\n",
        "table_data = []\n",
        "for result in results:\n",
        "    params = result['best_params']\n",
        "    kernel = params['kernel']\n",
        "    C = f\"{params['C']:.4f}\"\n",
        "    gamma = \"N/A\" if kernel == 'linear' else f\"{params['gamma']:.4f}\"\n",
        "\n",
        "    param_str = f\"Kernel: {kernel}, C: {C}, gamma: {gamma}\"\n",
        "\n",
        "    table_data.append([\n",
        "        result['sample_id'],\n",
        "        f\"{result['best_accuracy']:.4f}\",\n",
        "        param_str\n",
        "    ])\n",
        "\n",
        "results_table = pd.DataFrame(table_data,\n",
        "                          columns=['Sample #', 'Best Accuracy', 'Best SVM Parameters'])\n",
        "print(\"\\nTable 1: Comparative performance of Optimized-SVM with different samples\")\n",
        "print(results_table)\n",
        "\n",
        "# Save the results\n",
        "results_table.to_csv('svm_results.csv', index=False)"
      ],
      "metadata": {
        "id": "V9oaIWZBfLZB",
        "colab": {
          "base_uri": "https://localhost:8080/",
          "height": 807
        },
        "outputId": "75ac5495-1e1e-40b2-e878-8d2737a01fb9"
      },
      "execution_count": 7,
      "outputs": [
        {
          "output_type": "stream",
          "name": "stdout",
          "text": [
            "Best sample: S3 with accuracy: 0.9935\n",
            "\n",
            "Table 1: Comparative performance of Optimized-SVM with different samples\n",
            "  Sample # Best Accuracy                     Best SVM Parameters\n",
            "0       S1        0.9905  Kernel: poly, C: 0.0010, gamma: 1.0000\n",
            "1       S2        0.9834  Kernel: poly, C: 0.0010, gamma: 1.0000\n",
            "2       S3        0.9935  Kernel: poly, C: 0.0010, gamma: 1.0000\n",
            "3       S4        0.9905  Kernel: poly, C: 0.0010, gamma: 1.0000\n",
            "4       S5        0.9834   Kernel: linear, C: 0.1000, gamma: N/A\n",
            "5       S6        0.9881  Kernel: poly, C: 0.0010, gamma: 1.0000\n",
            "6       S7        0.9881  Kernel: poly, C: 0.0010, gamma: 1.0000\n",
            "7       S8        0.9923  Kernel: poly, C: 0.0010, gamma: 1.0000\n",
            "8       S9        0.9929  Kernel: poly, C: 0.1000, gamma: 0.1000\n",
            "9      S10        0.9846  Kernel: poly, C: 0.0010, gamma: 1.0000\n"
          ]
        },
        {
          "output_type": "display_data",
          "data": {
            "text/plain": [
              "<Figure size 1000x600 with 1 Axes>"
            ],
            "image/png": "[encoded data removed]"
          },
          "metadata": {}
        }
      ]
    },
    {
      "cell_type": "code",
      "source": [
        "# Load the results\n",
        "results = pd.read_csv('svm_results.csv')\n",
        "\n",
        "# Set the style\n",
        "sns.set_style('whitegrid')\n",
        "\n",
        "# Create a figure for accuracy comparison\n",
        "plt.figure(figsize=(12, 6))\n",
        "\n",
        "# Plot the accuracy for each sample\n",
        "plt.bar(results['Sample #'], results['Best Accuracy'].astype(float))\n",
        "plt.title('SVM Accuracy Across Different Samples')\n",
        "plt.xlabel('Sample')\n",
        "plt.ylabel('Accuracy')\n",
        "plt.ylim(0.8, 1.0)  # Set y-axis limit for better visualization\n",
        "plt.tight_layout()\n",
        "plt.savefig('accuracy_comparison.png')\n",
        "\n",
        "# Create a figure for kernel distribution\n",
        "plt.figure(figsize=(8, 6))"
      ],
      "metadata": {
        "id": "Ly81or6qfLnB"
      },
      "execution_count": 7,
      "outputs": []
    },
    {
      "cell_type": "code",
      "source": [
        "def analyze_svm_kernels(results):\n",
        "    # Extract kernels from parameters column\n",
        "    kernels = []\n",
        "    for param in results['Best SVM Parameters']:\n",
        "        kernel = param.split(',')[0].split(':')[1].strip()\n",
        "        kernels.append(kernel)\n",
        "\n",
        "    # Count kernels\n",
        "    kernel_counts = pd.Series(kernels).value_counts()\n",
        "\n",
        "    # Plot the kernel distribution\n",
        "    plt.figure(figsize=(10, 8))\n",
        "    plt.pie(kernel_counts, labels=kernel_counts.index, autopct='%1.1f%%')\n",
        "    plt.title('Distribution of Best Kernel Types')\n",
        "    plt.tight_layout()\n",
        "    plt.savefig('kernel_distribution.png')\n",
        "    plt.close()  # Close the plot to free up memory\n",
        "\n",
        "    # Create a summary report\n",
        "    with open('svm_optimization_report.txt', 'w') as f:\n",
        "        f.write(\"SVM Optimization Report\\n\")\n",
        "        f.write(\"======================\\n\\n\")\n",
        "\n",
        "        f.write(\"Dataset: Optical Recognition of Handwritten Digits\\n\")\n",
        "        f.write(\"Number of samples: 5620\\n\")\n",
        "        f.write(\"Number of features: 64\\n\")\n",
        "        f.write(\"Number of classes: 10\\n\\n\")\n",
        "\n",
        "        f.write(\"Optimization Results:\\n\")\n",
        "        f.write(\"-----------------\\n\")\n",
        "        # Find the row with the best accuracy\n",
        "        best_accuracy_idx = results['Best Accuracy'].astype(float).idxmax()\n",
        "        f.write(f\"Best sample: {results['Sample #'][best_accuracy_idx]}\\n\")\n",
        "        f.write(f\"Best accuracy: {results['Best Accuracy'].astype(float).max():.4f}\\n\")\n",
        "        f.write(f\"Parameters: {results['Best SVM Parameters'][best_accuracy_idx]}\\n\\n\")\n",
        "\n",
        "        f.write(\"Kernel Distribution:\\n\")\n",
        "        f.write(kernel_counts.to_string() + \"\\n\\n\")\n",
        "\n",
        "        f.write(\"All Results:\\n\")\n",
        "        f.write(results.to_string(index=False))\n",
        "\n",
        "    print(\"Visualization and report completed!\")\n",
        "\n",
        "    return kernel_counts\n",
        "\n",
        "results = pd.read_csv('svm_results.csv')\n",
        "kernel_distribution = analyze_svm_kernels(results)"
      ],
      "metadata": {
        "id": "6XVwJhDQgWFc",
        "colab": {
          "base_uri": "https://localhost:8080/"
        },
        "outputId": "9acb6f56-a7f7-4d3d-837e-2fe33c75ab3d"
      },
      "execution_count": 16,
      "outputs": [
        {
          "output_type": "stream",
          "name": "stdout",
          "text": [
            "Visualization and report completed!\n"
          ]
        }
      ]
    }
  ]
}